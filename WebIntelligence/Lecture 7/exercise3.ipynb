{
 "cells": [
  {
   "cell_type": "code",
   "execution_count": 6,
   "metadata": {},
   "outputs": [
    {
     "name": "stdout",
     "output_type": "stream",
     "text": [
      "Grad h4 = -0.5665566921234131\n",
      "Grad h3 = -0.115028977394104\n",
      "Grad h2 = -0.02298121713101864\n",
      "Grad h1 = -0.005749988369643688\n",
      "Grad x1 = -0.0012074242113158107\n",
      "Grad w1 = -0.0006037121056579053\n",
      "Grad w2 = -0.002532286336645484\n",
      "Grad w3 = -0.006537460722029209\n",
      "Grad w4 = -0.10677652060985565\n",
      "Grad w5 = None\n"
     ]
    }
   ],
   "source": [
    "import torch\n",
    "sigmoid = torch.nn.Sigmoid()\n",
    "x = torch.tensor(1.0, requires_grad=True)\n",
    "\n",
    "w1 = torch.tensor(2.0, requires_grad=True)\n",
    "w2 = torch.tensor(2.0, requires_grad=True)\n",
    "w3 = torch.tensor(3.0, requires_grad=True)\n",
    "w4 = torch.tensor(1.0, requires_grad=True)\n",
    "w5 = torch.tensor(2.0, requires_grad=True)\n",
    "\n",
    "h1 = sigmoid(x*w1)\n",
    "h1.register_hook(lambda grad: print(f\"Grad h1 = {grad}\"))\n",
    "\n",
    "h2 = sigmoid(h1*w2)\n",
    "h2.register_hook(lambda grad: print(f\"Grad h2 = {grad}\"))\n",
    "\n",
    "h3 = sigmoid(h2*w3)\n",
    "h3.register_hook(lambda grad: print(f\"Grad h3 = {grad}\"))\n",
    "\n",
    "h4 = sigmoid(h3*w4)\n",
    "h4.register_hook(lambda grad: print(f\"Grad h4 = {grad}\"))\n",
    "\n",
    "e = (1.0-h4)**2\n",
    "e.backward()\n",
    "\n",
    "print(\"Grad x1 = {}\".format(x.grad))\n",
    "print(\"Grad w1 = {}\".format(w1.grad))\n",
    "print(\"Grad w2 = {}\".format(w2.grad))\n",
    "print(\"Grad w3 = {}\".format(w3.grad))\n",
    "print(\"Grad w4 = {}\".format(w4.grad))\n",
    "print(\"Grad w5 = {}\".format(w5.grad))\n",
    "\n"
   ]
  },
  {
   "cell_type": "code",
   "execution_count": null,
   "metadata": {},
   "outputs": [],
   "source": []
  }
 ],
 "metadata": {
  "kernelspec": {
   "display_name": "Python 3",
   "language": "python",
   "name": "python3"
  },
  "language_info": {
   "codemirror_mode": {
    "name": "ipython",
    "version": 3
   },
   "file_extension": ".py",
   "mimetype": "text/x-python",
   "name": "python",
   "nbconvert_exporter": "python",
   "pygments_lexer": "ipython3",
   "version": "3.11.4"
  },
  "orig_nbformat": 4
 },
 "nbformat": 4,
 "nbformat_minor": 2
}
