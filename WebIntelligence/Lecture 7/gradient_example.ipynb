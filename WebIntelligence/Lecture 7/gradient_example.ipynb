{
 "cells": [
  {
   "cell_type": "code",
   "execution_count": null,
   "metadata": {},
   "outputs": [],
   "source": [
    "import torch"
   ]
  },
  {
   "cell_type": "code",
   "execution_count": null,
   "metadata": {},
   "outputs": [],
   "source": [
    "sigmoid = torch.nn.Sigmoid()\n",
    "relu = torch.nn.ReLU()\n",
    "\n",
    "x1 = torch.tensor(1.0, requires_grad=True)\n",
    "w1 = torch.tensor(2.0, requires_grad=True)\n",
    "\n",
    "x2 = torch.tensor(3.0, requires_grad=True)\n",
    "w2 = torch.tensor(0.5, requires_grad=True)\n",
    "\n",
    "y1 = x1*w1\n",
    "y1.register_hook(lambda grad: print(\"Grad y1 = {}\".format(grad)))\n",
    "\n",
    "y2 = x2*w2\n",
    "y2.register_hook(lambda grad: print(\"Grad y2 = {}\".format(grad)))\n",
    "\n",
    "y3 = y1+y2\n",
    "y3.register_hook(lambda grad: print(\"Grad y3 = {}\".format(grad)))\n",
    "\n",
    "y4 = sigmoid(y3)\n",
    "y4.register_hook(lambda grad: print(\"Grad y4 = {}\".format(grad)))\n",
    "\n",
    "y5 = relu(y3)\n",
    "y5.register_hook(lambda grad: print(\"Grad y5 = {}\".format(grad)))\n",
    "\n",
    "y6 = y4 * y5\n",
    "y6.register_hook(lambda grad: print(\"Grad y6 = {}\".format(grad)))\n",
    "\n",
    "e = (1.0 - y6)**2\n",
    "\n",
    "e.backward()"
   ]
  },
  {
   "cell_type": "code",
   "execution_count": null,
   "metadata": {},
   "outputs": [],
   "source": [
    "print(\"Grad x1 = {}\".format(x1.grad))\n",
    "print(\"Grad x2 = {}\".format(x2.grad))\n",
    "print(\"Grad w1 = {}\".format(w1.grad))\n",
    "print(\"Grad w2 = {}\".format(w2.grad))\n"
   ]
  },
  {
   "cell_type": "code",
   "execution_count": null,
   "metadata": {},
   "outputs": [],
   "source": []
  }
 ],
 "metadata": {
  "kernelspec": {
   "display_name": "Python 3",
   "language": "python",
   "name": "python3"
  },
  "language_info": {
   "codemirror_mode": {
    "name": "ipython",
    "version": 3
   },
   "file_extension": ".py",
   "mimetype": "text/x-python",
   "name": "python",
   "nbconvert_exporter": "python",
   "pygments_lexer": "ipython3",
   "version": "3.8.6"
  }
 },
 "nbformat": 4,
 "nbformat_minor": 4
}
