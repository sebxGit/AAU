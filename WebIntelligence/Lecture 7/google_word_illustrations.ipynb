{
 "cells": [
  {
   "cell_type": "code",
   "execution_count": null,
   "id": "5b9d1220-4ec4-4f6e-b7bf-97dc469e466f",
   "metadata": {},
   "outputs": [],
   "source": [
    "import matplotlib.pyplot as plt\n",
    "plt.style.use('ggplot')\n",
    "from sklearn.decomposition import PCA\n",
    "import numpy as np"
   ]
  },
  {
   "cell_type": "code",
   "execution_count": null,
   "id": "586bd458-fbe0-424e-a139-960cc5e41634",
   "metadata": {},
   "outputs": [],
   "source": [
    "import gensim\n",
    "# Load the binary model (this takes a bit of time). The data set can be downloaded from, e.g., https://code.google.com/archive/p/word2vec/\n",
    "model = gensim.models.KeyedVectors.load_word2vec_format('/Users/tdn/Downloads/GoogleNews-vectors-negative300.bin.gz', binary = True)"
   ]
  },
  {
   "cell_type": "markdown",
   "id": "19a40c73-e19c-4752-ac23-76b54e1faea2",
   "metadata": {},
   "source": [
    "## Illustrations"
   ]
  },
  {
   "cell_type": "code",
   "execution_count": null,
   "id": "724e0382-1504-4366-b4af-3ba3c7a44037",
   "metadata": {},
   "outputs": [],
   "source": [
    "# Inspired by http://web.stanford.edu/class/cs224n/\n",
    "def display_pca_scatterplot(model, words=None, sample=0, save=False, file_name='scatterplot'):\n",
    "    if words == None:\n",
    "        if sample > 0:\n",
    "            words = np.random.choice(list(model.key_to_index.keys()), sample)\n",
    "        else:\n",
    "            words = [ word for word in model.key_to_index.keys() ]\n",
    "        \n",
    "    word_vectors = np.array([model[w] for w in words])\n",
    "\n",
    "    twodim = PCA(n_components=2).fit_transform(word_vectors)[:,:2]\n",
    "    \n",
    "    plt.figure(figsize=(6,4))\n",
    "    plt.scatter(twodim[:,0], twodim[:,1], edgecolors='k', c='r')\n",
    "    for word, (x,y) in zip(words, twodim):\n",
    "        plt.text(x+0.05, y+0.05, word)\n",
    "    plt.xlabel('Dim 1', fontsize=10)\n",
    "    plt.ylabel('Dim 2', fontsize=10)\n",
    "    plt.tight_layout()\n",
    "    if save:\n",
    "        plt.savefig(file_name + '.pdf')"
   ]
  },
  {
   "cell_type": "code",
   "execution_count": null,
   "id": "07600392-720f-4a2d-8c00-9333fc6a946a",
   "metadata": {},
   "outputs": [],
   "source": [
    "model.most_similar('obama')"
   ]
  },
  {
   "cell_type": "code",
   "execution_count": null,
   "id": "097051f1-def5-4127-a262-64d3d36bd328",
   "metadata": {},
   "outputs": [],
   "source": [
    "model.most_similar('banana')"
   ]
  },
  {
   "cell_type": "code",
   "execution_count": null,
   "id": "2b0e79ec-e71e-4bce-9dba-3a39bc7b2cf3",
   "metadata": {
    "scrolled": true
   },
   "outputs": [],
   "source": [
    "display_pca_scatterplot(model, [\"Finland\", \"Helsinki\", \"Netherlands\", \"Amsterdam\", \"Belgium\", \"Bruxelles\", \"Italy\", \"Rome\", \n",
    "                                \"France\", \"Paris\", \"Denmark\", \"Copenhagen\", \"Germany\", \"Berlin\", \"England\", \"London\", \"Norway\", \n",
    "                                \"Oslo\", \"Sweden\", \"Stockholm\" ], save=True, file_name=\"emb-scatter\")"
   ]
  },
  {
   "cell_type": "code",
   "execution_count": null,
   "id": "a1c93227-f382-4774-b506-39d7537f09a1",
   "metadata": {},
   "outputs": [],
   "source": [
    "model.most_similar(positive=[\"king\", \"woman\"],negative=[\"man\"])"
   ]
  },
  {
   "cell_type": "code",
   "execution_count": null,
   "id": "943e08fd-0c61-4eab-be75-122b63d1c481",
   "metadata": {},
   "outputs": [],
   "source": [
    "model.most_similar(positive=[\"Berlin\", \"France\"],negative=[\"Germany\"])"
   ]
  },
  {
   "cell_type": "code",
   "execution_count": null,
   "id": "e35d70e2-bd02-4c3b-9e67-b132bff4adfd",
   "metadata": {},
   "outputs": [],
   "source": [
    "model.most_similar(positive=[\"apple\", \"bird\"],negative=[\"human\"])"
   ]
  }
 ],
 "metadata": {
  "kernelspec": {
   "display_name": "Python 3",
   "language": "python",
   "name": "python3"
  },
  "language_info": {
   "codemirror_mode": {
    "name": "ipython",
    "version": 3
   },
   "file_extension": ".py",
   "mimetype": "text/x-python",
   "name": "python",
   "nbconvert_exporter": "python",
   "pygments_lexer": "ipython3",
   "version": "3.8.6"
  }
 },
 "nbformat": 4,
 "nbformat_minor": 5
}
