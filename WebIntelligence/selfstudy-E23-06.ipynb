{
 "cells": [
  {
   "cell_type": "markdown",
   "metadata": {},
   "source": [
    "## Self study 6"
   ]
  },
  {
   "cell_type": "markdown",
   "metadata": {},
   "source": [
    "In this self study we directly continue with what we started in self study 5\n",
    "\n",
    "**Task 2:** For the same user, and the same train/test split, implement the user-based neighborhood method. How does the RMSE compare to what you got in the content-based approach?"
   ]
  },
  {
   "cell_type": "markdown",
   "metadata": {},
   "source": [
    "**Task 3:** Now take the whole rating matrix. Divide all the ratings in the matrix into a train and a test set. For the user you have used in Tasks 1 and 2, you should include the same ratings in the test set as before. Be sure that you do the train/test division uniformly at random over all ratings, so that you don't get all the ratings of one movie (or one user) included in the test set (that would lead to some cold start problems).  You can also start with a sub-matrix of the whole rating matrix by selecting only a subset of users, and a subset of movies. For doing the sampling, you may, e.g., use `indexes = np.where(~np.isnan(ratings))` to extract the relevant indices.\n",
    "\n",
    "Extend the notebook from the last lecture so that you can calculate the RMSE over the test set and for any particular user. Compare the RMSE values you obtain for the test user of tasks 1 and 2 with what you have previously obtained.  \n",
    "\n",
    "See whether you can interpret the semantic content of the latent vectors that have been learned for the movies: a rough suggestions is given in the notebook, but try also to list for each coordinate of the latent vectors the movies that have the highest (or lowest) value in that coordinate. Can you identify certain \"real\" features of the movies that are captured by the learned latent features?\n",
    "\n",
    "Experiment with varying the number of latent dimension, training epochs, etc. What effect does it have over the RMSE for both the training and test set as well as you intrepretation of the latent dimensions?\n",
    "\n",
    "Extend the implementation to also include biases for the users and movies. How does this affect the RMSE results?"
   ]
  },
  {
   "cell_type": "code",
   "execution_count": null,
   "metadata": {},
   "outputs": [],
   "source": []
  }
 ],
 "metadata": {
  "kernelspec": {
   "display_name": "Python 3",
   "language": "python",
   "name": "python3"
  },
  "language_info": {
   "codemirror_mode": {
    "name": "ipython",
    "version": 3
   },
   "file_extension": ".py",
   "mimetype": "text/x-python",
   "name": "python",
   "nbconvert_exporter": "python",
   "pygments_lexer": "ipython3",
   "version": "3.8.6"
  }
 },
 "nbformat": 4,
 "nbformat_minor": 4
}
