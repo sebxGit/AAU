{
 "cells": [
  {
   "cell_type": "markdown",
   "id": "9dacb06e",
   "metadata": {},
   "source": [
    "# Self study 9"
   ]
  },
  {
   "cell_type": "markdown",
   "id": "strange-attempt",
   "metadata": {},
   "source": [
    "## Libraries\n",
    "For this task you will need the RDFLib libraries. You can find the documentation at this [link](https://rdflib.readthedocs.io/en/stable/). After installing it, you can execute the following command."
   ]
  },
  {
   "cell_type": "code",
   "execution_count": 23,
   "id": "anticipated-width",
   "metadata": {},
   "outputs": [],
   "source": [
    "from rdflib import Graph\n",
    "from rdflib.term import BNode, Literal, URIRef\n",
    "from rdflib.namespace import RDF"
   ]
  },
  {
   "cell_type": "markdown",
   "id": "centered-chess",
   "metadata": {},
   "source": [
    "## Tasks\n",
    "In this task you are expected to collect some RDF graphs from web and merge them into a local RDF graph. \n",
    "\n",
    "We will use RDF graphs from DBLP, a web site describing bibliographic data about scientific article in computer science. Each researcher has an associated DBLP person ID. For example, the person ID of Daniele is 57/8026. The code can be used to create Daniele's IRI: [http://dblp.org/pid/57/8026](http://dblp.org/pid/57/8026). Starting from here, it is possible to access different representations of the resource by adding a file extension. For example:\n",
    "\n",
    "* By adding \".html\", one can access the HTML page describing Daniele: [http://dblp.org/pid/57/8026.html](http://dblp.org/pid/57/8026.html)\n",
    "* By adding \".rdf\", one can access the XML/RDF page describing Daniele: [http://dblp.org/pid/57/8026.rdf](http://dblp.org/pid/57/8026.rdf)\n",
    "* By adding \".ttl\", one can access the Turtle page describing Daniele: [http://dblp.org/pid/57/8026.ttl](http://dblp.org/pid/57/8026.ttl)\n",
    "\n",
    "### Task 1\n",
    "The code below constructs a simple crawler to start from a person and collect all articles written by that person or their coauthors (i.e., only using two types of links: authorOf and coCreatorWith). To fulfill the task you should extend it as follows:\n",
    "\n",
    "* Select about 5 teachers or project supervisors you have worked with. \n",
    "* Identify their DBLP personal identifiers, and consequently their IRIs.\n",
    "* Collect the RDF describing them and combine them in a RDF graph\n",
    "* Analyse the graph (i.e. iterate over the graph and check its content) to answer the following questions:\n",
    "    * How many articles have they authored?\n",
    "    * Who is the person who co-authored with more people?\n",
    "    * What are their Google Scholar IDs?\n",
    "\n",
    "### Task 2\n",
    "Starting from the IRIs of the people you used in Task 1, create a co-author network, i.e., a graph describing who wrote papers with whom. In this graph, the nodes represent people, and the edges indicate that the two nodes wrote an article together. Create this graph as a knowledge graph, using the Graph class from RDFLib. \n",
    "\n",
    "In detail:\n",
    "\n",
    "* Use the profiles you used in Task 1 as seeds, and collect their RDF graphs.\n",
    "* Populate the co-author network with the information about the co-authorships. For each author, store its IRI and the Literal with the name of the author.\n",
    "* Develop a strategy to decide the next person to crawl.\n",
    "* Stop when the co-authors network contains ca. 1000 authors. \n",
    "\n",
    "### Code snippets\n",
    "Feel free to reuse the following code to solve the above tasks.\n",
    "\n",
    "This function retrieves a graph from DBLP, given the IRI."
   ]
  },
  {
   "cell_type": "code",
   "execution_count": 31,
   "id": "verified-birth",
   "metadata": {},
   "outputs": [],
   "source": [
    "def get_graph(iri: str) -> Graph:\n",
    "    g = Graph()\n",
    "    g.parse(iri + '.nt', format='nt')\n",
    "    return g"
   ]
  },
  {
   "cell_type": "markdown",
   "id": "e90d6437",
   "metadata": {},
   "source": [
    "This example uses the IRI of Daniele in DBLP and it retrieves the graph describing him, his publications and his collaborators."
   ]
  },
  {
   "cell_type": "code",
   "execution_count": 15,
   "id": "1082cf21",
   "metadata": {},
   "outputs": [],
   "source": [
    "daniele_iri = \"https://dblp.org/pid/57/8026\"\n",
    "daniele_graph = get_graph(daniele_iri)"
   ]
  },
  {
   "cell_type": "markdown",
   "id": "6e3c40f2",
   "metadata": {},
   "source": [
    "The following code counts the statements stored in the graph."
   ]
  },
  {
   "cell_type": "code",
   "execution_count": 30,
   "id": "d4b34b1c",
   "metadata": {},
   "outputs": [
    {
     "name": "stdout",
     "output_type": "stream",
     "text": [
      "Number of triples: 221\n"
     ]
    }
   ],
   "source": [
    "i = 0\n",
    "for s, p, o in daniele_graph:\n",
    "    i += 1\n",
    "\n",
    "print(f\"Number of triples: {i}\")"
   ]
  },
  {
   "cell_type": "markdown",
   "id": "5a07e1d8",
   "metadata": {},
   "source": [
    "The following code prints the statements where the object is a literal"
   ]
  },
  {
   "cell_type": "code",
   "execution_count": 29,
   "id": "f6e15b7b",
   "metadata": {},
   "outputs": [
    {
     "name": "stdout",
     "output_type": "stream",
     "text": [
      "https://dblp.org/pid/57/8026 https://dblp.org/rdf/schema#creatorName Daniele Dell'Aglio\n",
      "Na6989d274a82427da77627a194ba4394 http://purl.org/spar/literal/hasLiteralValue 1217255869\n",
      "https://dblp.org/pid/57/8026 https://dblp.org/rdf/schema#primaryCreatorName Daniele Dell'Aglio\n",
      "N682b05e24f2a41918823633701c76b6f http://purl.org/spar/literal/hasLiteralValue 81485655252\n",
      "https://dblp.org/pid/57/8026 http://www.w3.org/2000/01/rdf-schema#label Daniele Dell'Aglio\n",
      "N434ebc633e8040ed9eb68b3c089ebb2b http://purl.org/spar/literal/hasLiteralValue Q57225906\n",
      "Nba74d284024b4b35a9bace8445b8f0a6 http://purl.org/spar/literal/hasLiteralValue 57/8026\n",
      "https://dblp.org/pid/57/8026.nt http://www.w3.org/2000/01/rdf-schema#label provenance information for RDF data of dblp person '57/8026'\n",
      "Nfb66a5032c6844e5bae77a284bf0756d http://purl.org/spar/literal/hasLiteralValue dandellaglio\n",
      "Neb1238ec9a264717959b071a1bebc9cb http://purl.org/spar/literal/hasLiteralValue 0000-0003-4904-2511\n",
      "https://dblp.org/pid/57/8026.nt http://purl.org/dc/terms/modified 2023-09-27T22:44:29+0200\n",
      "N6bf36e7957fb4bec92c2c799890e47d9 http://purl.org/spar/literal/hasLiteralValue 3I26zx0AAAAJ\n"
     ]
    }
   ],
   "source": [
    "for s, p, o in daniele_graph:\n",
    "    if isinstance(o, Literal):\n",
    "        print(s, p, o)"
   ]
  },
  {
   "cell_type": "markdown",
   "id": "8aed5870",
   "metadata": {},
   "source": [
    "This code prints the statements having rdf:type as predicate"
   ]
  },
  {
   "cell_type": "code",
   "execution_count": 28,
   "id": "e36eabb8",
   "metadata": {},
   "outputs": [
    {
     "name": "stdout",
     "output_type": "stream",
     "text": [
      "https://dblp.org/pid/57/8026 http://www.w3.org/1999/02/22-rdf-syntax-ns#type https://dblp.org/rdf/schema#Person\n",
      "https://dblp.org/pid/57/8026 http://www.w3.org/1999/02/22-rdf-syntax-ns#type https://dblp.org/rdf/schema#Creator\n",
      "Nba74d284024b4b35a9bace8445b8f0a6 http://www.w3.org/1999/02/22-rdf-syntax-ns#type http://purl.org/spar/datacite/PersonalIdentifier\n",
      "N6bf36e7957fb4bec92c2c799890e47d9 http://www.w3.org/1999/02/22-rdf-syntax-ns#type http://purl.org/spar/datacite/PersonalIdentifier\n",
      "N682b05e24f2a41918823633701c76b6f http://www.w3.org/1999/02/22-rdf-syntax-ns#type http://purl.org/spar/datacite/PersonalIdentifier\n",
      "Nfb66a5032c6844e5bae77a284bf0756d http://www.w3.org/1999/02/22-rdf-syntax-ns#type http://purl.org/spar/datacite/PersonalIdentifier\n",
      "Neb1238ec9a264717959b071a1bebc9cb http://www.w3.org/1999/02/22-rdf-syntax-ns#type http://purl.org/spar/datacite/PersonalIdentifier\n",
      "N434ebc633e8040ed9eb68b3c089ebb2b http://www.w3.org/1999/02/22-rdf-syntax-ns#type http://purl.org/spar/datacite/Identifier\n",
      "Na6989d274a82427da77627a194ba4394 http://www.w3.org/1999/02/22-rdf-syntax-ns#type http://purl.org/spar/datacite/Identifier\n"
     ]
    }
   ],
   "source": [
    "for s, p, o in daniele_graph.triples((None, RDF.type, None)):\n",
    "    print(s, p, o)"
   ]
  },
  {
   "cell_type": "markdown",
   "id": "42cb6c57",
   "metadata": {},
   "source": [
    "More information on how to navigate graphs is available [here](https://rdflib.readthedocs.io/en/stable/intro_to_graphs.html)."
   ]
  }
 ],
 "metadata": {
  "kernelspec": {
   "display_name": "Python 3",
   "language": "python",
   "name": "python3"
  },
  "language_info": {
   "codemirror_mode": {
    "name": "ipython",
    "version": 3
   },
   "file_extension": ".py",
   "mimetype": "text/x-python",
   "name": "python",
   "nbconvert_exporter": "python",
   "pygments_lexer": "ipython3",
   "version": "3.10.9"
  },
  "vscode": {
   "interpreter": {
    "hash": "916dbcbb3f70747c44a77c7bcd40155683ae19c65e1c03b4aa3499c5328201f1"
   }
  }
 },
 "nbformat": 4,
 "nbformat_minor": 5
}
