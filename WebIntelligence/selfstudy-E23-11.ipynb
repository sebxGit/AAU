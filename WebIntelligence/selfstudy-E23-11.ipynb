{
 "cells": [
  {
   "cell_type": "markdown",
   "id": "9dacb06e",
   "metadata": {},
   "source": [
    "# Self study 11"
   ]
  },
  {
   "cell_type": "markdown",
   "id": "strange-attempt",
   "metadata": {},
   "source": [
    "## Libraries\n",
    "For this task you will need the Abstract Base Classes and networkx libraries. Abstract Base Classes (abc) is a library to manage abstract classes in Python. You can find its documentation [here](https://docs.python.org/3/library/abc.html)."
   ]
  },
  {
   "cell_type": "code",
   "execution_count": null,
   "id": "anticipated-width",
   "metadata": {},
   "outputs": [],
   "source": [
    "from abc import ABC, abstractmethod\n",
    "import math\n",
    "import networkx as nx"
   ]
  },
  {
   "cell_type": "markdown",
   "id": "centered-chess",
   "metadata": {},
   "source": [
    "## Introduction\n",
    "In this session, we will test some graph parallel framework implementations. There are frameworks which one can use, like [GraphX](https://spark.apache.org/graphx/), which is a library for Apache Spark. Since the installation of Spark, however, can be time consuming, in this notebook we will use a rudimentary implementation of a graph parallel framework. We assume that the graph is directed. The following code implements two abstract classes, Node and Edge. \n",
    "\n",
    "Node represents a computational node in a graph processing framework. It should implement the functions Agg, Msg and End, as described during the lecture. It defines three abstract methods:\n",
    "\n",
    "* aggregate: it combines the internal node status with the received messages to compute the new internal status.\n",
    "* prepare_message: it prepares the message to be sent to the connected nodes.\n",
    "* end: it returns a boolean value indicating if the node wants to continue the computation."
   ]
  },
  {
   "cell_type": "code",
   "execution_count": null,
   "id": "c64d3f3e",
   "metadata": {},
   "outputs": [],
   "source": [
    "class Node(ABC):\n",
    "    def __init__(self, name, features, active = False):\n",
    "        self.name = name\n",
    "        self.features = features\n",
    "        self.edges = []\n",
    "        self.messages = []\n",
    "        self.active = active\n",
    "    \n",
    "    def add_edge(self, edge):\n",
    "        self.edges.append(edge)\n",
    "\n",
    "    @abstractmethod\n",
    "    def prepare_message(self, message): pass\n",
    "\n",
    "    @abstractmethod\n",
    "    def aggregate(self): pass\n",
    "\n",
    "    @abstractmethod\n",
    "    def end(self): pass\n",
    "\n",
    "    def agg(self):\n",
    "        self.aggregate()\n",
    "        self.messages = []\n",
    "\n",
    "    def send_msg(self):\n",
    "        if self.active:\n",
    "            message = self.prepare_message()\n",
    "            for edge in self.edges:\n",
    "                edge.msg(message)\n",
    "\n",
    "    def recv_message(self, message):\n",
    "        self.messages.append(message)\n",
    "\n",
    "    def print(self):\n",
    "        print(self.name, self.features)"
   ]
  },
  {
   "cell_type": "markdown",
   "id": "2847a180",
   "metadata": {},
   "source": [
    "The role of the Edge class is to track the graph edges, and to forward the messages from the ingoing to the outgoing nodes. The class defines an abstract class prepare_message, which receives the message from the ingoing node, and transforms it before sending it to the outgoing node."
   ]
  },
  {
   "cell_type": "code",
   "execution_count": null,
   "id": "48bc9fd4",
   "metadata": {},
   "outputs": [],
   "source": [
    "class Edge(ABC):\n",
    "    def __init__(self, node2, features):\n",
    "        self.node2 = node2\n",
    "        self.features = features\n",
    "\n",
    "    @abstractmethod\n",
    "    def prepare_message(self, message): pass\n",
    "\n",
    "    def msg(self, message): \n",
    "        message = self.prepare_message(message)\n",
    "        self.node2.recv_message(message)"
   ]
  },
  {
   "cell_type": "markdown",
   "id": "a17319c6",
   "metadata": {},
   "source": [
    "The execute function implements the execution routine of a graph processing framework. It continues to repeat the two superstep phases (computation and message exchange) until all the nodes are ready to complete the processing. This code \"simulates\" the behaviour of a graph parallel framework in a single thread architecture. The next natural step would be to execute all send_msg in parallel, and when they finish, execute all the agg methods in parallel."
   ]
  },
  {
   "cell_type": "code",
   "execution_count": null,
   "id": "31e313ec",
   "metadata": {},
   "outputs": [],
   "source": [
    "def execute(nodes: Node):\n",
    "    exit = False\n",
    "    while exit != True:\n",
    "        exit = True\n",
    "        for node in nodes:\n",
    "            node.send_msg()\n",
    "        for node in nodes:\n",
    "            node.agg()\n",
    "            exit = exit and node.end()"
   ]
  },
  {
   "cell_type": "markdown",
   "id": "91b2a011",
   "metadata": {},
   "source": [
    "## Task: Single Source Shortest Path\n",
    "\n",
    "In the first task, we implement the single source shortest path, as seen during the lecture. \n",
    "\n",
    "First, we define a class NodeSP that implements Node. Specifically:\n",
    "\n",
    "* aggregate determines the minimum value between the internal one and the messages received from the other nodes. If the minimum value is different from the current one, the internal state is updated, and messages will be sent to the neighbours.\n",
    "* prepare_message prepares the message for the neighbour nodes. The message includes the new state value (i.e. the minimum distance from the source node).\n",
    "* end returns true if the node did not change the internal state, false otherwise."
   ]
  },
  {
   "cell_type": "code",
   "execution_count": null,
   "id": "af05eb04",
   "metadata": {},
   "outputs": [],
   "source": [
    "class NodeSP(Node):\n",
    "    def __init__(self, name, features, active = False):\n",
    "        super().__init__(name, features, active)\n",
    "\n",
    "    def prepare_message(self):\n",
    "        message = []\n",
    "        message.append(self.features[0])\n",
    "        return message\n",
    "\n",
    "    def aggregate(self):\n",
    "        self.messages.append(self.features[0])\n",
    "        if min(self.messages) != self.features[0]:\n",
    "            self.active = True\n",
    "            self.features[0] = min(self.messages)  \n",
    "        else:\n",
    "            self.active = False\n",
    "\n",
    "    def end(self):\n",
    "        return not self.active\n"
   ]
  },
  {
   "cell_type": "markdown",
   "id": "842a6c7d",
   "metadata": {},
   "source": [
    "EdgeSP implements Edge. The prepare_message function adds to the message the edge weight."
   ]
  },
  {
   "cell_type": "code",
   "execution_count": null,
   "id": "4fe6ae77",
   "metadata": {},
   "outputs": [],
   "source": [
    "class EdgeSP(Edge):\n",
    "    def __init__(self, node2, features):\n",
    "        super().__init__(node2, features)\n",
    "\n",
    "    def prepare_message(self, message):\n",
    "        message = message[0]+self.features[0]\n",
    "        return message"
   ]
  },
  {
   "cell_type": "markdown",
   "id": "8262f751",
   "metadata": {},
   "source": [
    "We now run the algorithm on the graph we studied at the slide 38 of the lecture. First, we prepare the graph. Then we compute the shortest path distance from node B to all the other nodes."
   ]
  },
  {
   "cell_type": "code",
   "execution_count": null,
   "id": "4ed31b2c",
   "metadata": {},
   "outputs": [],
   "source": [
    "a = NodeSP('a', [10000])\n",
    "b = NodeSP('b', [0], True)\n",
    "c = NodeSP('c', [10000])\n",
    "d = NodeSP('d', [10000])\n",
    "\n",
    "a.add_edge(EdgeSP(c, [5]))\n",
    "a.add_edge(EdgeSP(d, [1]))\n",
    "b.add_edge(EdgeSP(a, [2]))\n",
    "b.add_edge(EdgeSP(c, [6]))\n",
    "b.add_edge(EdgeSP(d, [4]))\n",
    "d.add_edge(EdgeSP(c, [1]))\n",
    "\n",
    "G = [a, b, c, d]"
   ]
  },
  {
   "cell_type": "markdown",
   "id": "6e0294b9",
   "metadata": {},
   "source": [
    "Next, we perform the computation, and we print the shortest path distance between node B and the other nodes. The values are the same we obtained while studying the algorithm during the lecture."
   ]
  },
  {
   "cell_type": "code",
   "execution_count": null,
   "id": "181ce4a2",
   "metadata": {},
   "outputs": [],
   "source": [
    "execute(G)\n",
    "\n",
    "for node in G:\n",
    "    node.print()"
   ]
  },
  {
   "cell_type": "markdown",
   "id": "98461238",
   "metadata": {},
   "source": [
    "We can also apply the algorithm to the Lazega graph (already used in the self study session 4). We compute the shortest path distances from node 17 (the source node) to all the others. \n",
    "\n",
    "First, we load the graph and we prepare the graph. We set the weight of each edge to 1. \n",
    "\n",
    "Next, we execute the program and print the nodes with their distance from node 17. If the (node?)value is set to 10000, it means that the node is not reachable."
   ]
  },
  {
   "cell_type": "code",
   "execution_count": null,
   "id": "4e87aaf9",
   "metadata": {},
   "outputs": [],
   "source": [
    "lazega = nx.readwrite.graphml.read_graphml('/mnt/c/Users/dade/OneDrive - Aalborg Universitet/teaching/WI/E23/lazega.gml')\n",
    "\n",
    "nodes = {}\n",
    "source = \"17\"\n",
    "\n",
    "for node in lazega.nodes:\n",
    "    if node == source:\n",
    "        nodes[node] = NodeSP(node, [0], True)\n",
    "    else:\n",
    "        nodes[node] = NodeSP(node, [10000])\n",
    "\n",
    "for edge in lazega.edges:\n",
    "    nodes[edge[0]].add_edge(EdgeSP(nodes[edge[1]], [1]))\n",
    "\n",
    "lG = list(nodes.values())\n",
    "\n",
    "execute(lG)\n",
    "\n",
    "for node in lG:\n",
    "    node.print()\n"
   ]
  },
  {
   "cell_type": "markdown",
   "id": "c40a9b59",
   "metadata": {},
   "source": [
    "## Task: PageRank\n",
    "\n",
    "The following code implements PageRank. The class NodePR implements the abstract methods of the Node:\n",
    "\n",
    "* aggregate sums the values of the received messages. Then it adds the result to (1-d)/#nodes.\n",
    "* prepare_message sends d*(current PageRank value)/#outdegree as the message for the neighbour nodes.\n",
    "* end terminates after z iterations.\n",
    "\n",
    "EdgePR extends Edge by implementing prepare_message. As seen during the lecture, the feature vectors of edges are empty, and no modification happens."
   ]
  },
  {
   "cell_type": "code",
   "execution_count": null,
   "id": "67218324",
   "metadata": {},
   "outputs": [],
   "source": [
    "class NodePR(Node):\n",
    "    def __init__(self, name: str, features, d: float, z: int, active = False):\n",
    "        super().__init__(name, features, active)\n",
    "        self.d = d\n",
    "        self.z = z\n",
    "        self.i = 0\n",
    "\n",
    "    def prepare_message(self):\n",
    "        message = []\n",
    "        message.append((self.d * self.features[0])/self.features[1])\n",
    "        return message\n",
    "\n",
    "    def aggregate(self):\n",
    "        s = 0\n",
    "        for message in self.messages:\n",
    "            s = s + message[0]\n",
    "        self.features[0] = (1-self.d)/self.features[2] + s\n",
    "        self.i = self.i + 1\n",
    "\n",
    "    def end(self):\n",
    "        return self.i >= self.z\n",
    "    \n",
    "class EdgePR(Edge):\n",
    "    def __init__(self, node2, features):\n",
    "        super().__init__(node2, features)\n",
    "\n",
    "    def prepare_message(self, message):\n",
    "        return message"
   ]
  },
  {
   "cell_type": "markdown",
   "id": "eba782f7",
   "metadata": {},
   "source": [
    "The following code prepares the graph of slide 41. "
   ]
  },
  {
   "cell_type": "code",
   "execution_count": null,
   "id": "50d1c9c5",
   "metadata": {},
   "outputs": [],
   "source": [
    "acme = NodePR('acme', [1/4, 1, 4], 0.85, 10, True)\n",
    "bob = NodePR('bob', [1/4, 2, 4], 0.85, 10, True)\n",
    "carol = NodePR('carol', [1/4, 3, 4], 0.85, 10, True)\n",
    "diana = NodePR('diana', [1/4, 1, 4], 0.85, 10, True)\n",
    "\n",
    "acme.add_edge(EdgePR(diana, []))\n",
    "bob.add_edge(EdgePR(acme, []))\n",
    "bob.add_edge(EdgePR(carol, []))\n",
    "carol.add_edge(EdgePR(acme, []))\n",
    "carol.add_edge(EdgePR(bob, []))\n",
    "carol.add_edge(EdgePR(diana, []))\n",
    "diana.add_edge(EdgePR(carol, []))\n",
    "\n",
    "G = [acme, bob, carol, diana]"
   ]
  },
  {
   "cell_type": "markdown",
   "id": "99570b4e",
   "metadata": {},
   "source": [
    "We can now compute the PageRank of the graph. The resulting values are the same we determined at slide 51."
   ]
  },
  {
   "cell_type": "code",
   "execution_count": null,
   "id": "b138b5f3",
   "metadata": {},
   "outputs": [],
   "source": [
    "execute(G)\n",
    "\n",
    "for node in G:\n",
    "    node.print()"
   ]
  },
  {
   "cell_type": "markdown",
   "id": "945f83d2",
   "metadata": {},
   "source": [
    "We can now try PageRank with the Lazega graph. When using real graphs, it is common to find endpoint (or sink) nodes, i.e. nodes with outdegree zero. These points are problematic because they acquire PageRank mass, breaking the algorithm. The damping factor (or the teleport) is a classical workaround to overcome the issue.\n",
    "\n",
    "In the case of the graph parallel framework we are studying, there is not a teleport step. However, we can still simulate it: each endpoint node should distribute the pagerank to all the nodes in the graph. \n",
    "\n",
    "The prepare_function below converts a NetworkX directed graph in a graph we can process with our graph parallel framework for PageRank. In the conversion process, it connects endpoints to all the graph nodes."
   ]
  },
  {
   "cell_type": "code",
   "execution_count": null,
   "id": "34e0ec55",
   "metadata": {},
   "outputs": [],
   "source": [
    "def prepare_graph(graph: nx.DiGraph):\n",
    "    nodes = {}\n",
    "    endpoints = []\n",
    "    for node in graph.nodes:\n",
    "        nodes[node] = NodePR(node, [1/len(graph.nodes), graph.out_degree(node), len(graph.nodes)], 0.85, 100, True)\n",
    "        if graph.out_degree(node) == 0:\n",
    "            endpoints.append(node)\n",
    "\n",
    "    for edge in graph.edges:\n",
    "        nodes[edge[0]].add_edge(EdgePR(nodes[edge[1]], []))\n",
    "\n",
    "    for node in endpoints:\n",
    "        for n in nodes:\n",
    "            nodes[node].add_edge(EdgePR(nodes[n], []))\n",
    "        nodes[node].features[1] = len(nodes)\n",
    "\n",
    "    return nodes\n"
   ]
  },
  {
   "cell_type": "markdown",
   "id": "a600c3cf",
   "metadata": {},
   "source": [
    "We can now pre-process the Lazega graph, and execute the PageRank algorithm"
   ]
  },
  {
   "cell_type": "code",
   "execution_count": null,
   "id": "7e387bc5",
   "metadata": {},
   "outputs": [],
   "source": [
    "nodes = prepare_graph(lazega)\n",
    "\n",
    "G = list(nodes.values())\n",
    "\n",
    "execute(G)\n",
    "\n",
    "for node in G:\n",
    "    node.print()\n"
   ]
  },
  {
   "cell_type": "markdown",
   "id": "54fb377d",
   "metadata": {},
   "source": [
    "As a sanity check, we compute the MSE of the computed PageRank with the one implemented in NetworkX. The result suggests that the values are substantially the same."
   ]
  },
  {
   "cell_type": "code",
   "execution_count": null,
   "id": "90b7fc4c",
   "metadata": {},
   "outputs": [],
   "source": [
    "pr = nx.pagerank(lazega)\n",
    "\n",
    "error = 0\n",
    "for node in pr:\n",
    "    error = error + math.pow(pr[node]-nodes[node].features[0], 2)\n",
    "print(math.sqrt(error/len(pr)))"
   ]
  }
 ],
 "metadata": {
  "kernelspec": {
   "display_name": "Python 3",
   "language": "python",
   "name": "python3"
  },
  "language_info": {
   "codemirror_mode": {
    "name": "ipython",
    "version": 3
   },
   "file_extension": ".py",
   "mimetype": "text/x-python",
   "name": "python",
   "nbconvert_exporter": "python",
   "pygments_lexer": "ipython3",
   "version": "3.9.17"
  },
  "vscode": {
   "interpreter": {
    "hash": "916dbcbb3f70747c44a77c7bcd40155683ae19c65e1c03b4aa3499c5328201f1"
   }
  }
 },
 "nbformat": 4,
 "nbformat_minor": 5
}
