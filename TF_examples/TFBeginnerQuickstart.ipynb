{
 "cells": [
  {
   "cell_type": "code",
   "execution_count": 3,
   "id": "0d1e7528-c4d5-48f1-9bca-2808b5ae90a6",
   "metadata": {
    "tags": []
   },
   "outputs": [
    {
     "name": "stdout",
     "output_type": "stream",
     "text": [
      "TensorFlow version: 2.11.0\n"
     ]
    }
   ],
   "source": [
    "import tensorflow as tf\n",
    "print(\"TensorFlow version:\", tf.__version__)"
   ]
  },
  {
   "cell_type": "code",
   "execution_count": 4,
   "id": "c7650690-637e-4012-bba0-05c9606c424f",
   "metadata": {
    "tags": []
   },
   "outputs": [
    {
     "name": "stdout",
     "output_type": "stream",
     "text": [
      "Downloading data from https://storage.googleapis.com/tensorflow/tf-keras-datasets/mnist.npz\n",
      "11490434/11490434 [==============================] - 1s 0us/step\n"
     ]
    }
   ],
   "source": [
    "mnist = tf.keras.datasets.mnist\n",
    "(x_train, y_train), (x_test, y_test) = mnist.load_data()\n",
    "x_train, x_test = x_train / 255.0, x_test / 255"
   ]
  },
  {
   "cell_type": "code",
   "execution_count": 7,
   "id": "8fa6a65d-e30d-4e0f-9638-17d84f3048dd",
   "metadata": {
    "tags": []
   },
   "outputs": [],
   "source": [
    "model = tf.keras.models.Sequential([tf.keras.layers.Flatten(input_shape=(28,28)),\n",
    "                                    tf.keras.layers.Dense(128, activation='relu'),\n",
    "                                    tf.keras.layers.Dropout(0.2),\n",
    "                                    tf.keras.layers.Dense(10)\n",
    "                                   ])"
   ]
  },
  {
   "cell_type": "code",
   "execution_count": 8,
   "id": "8be137d7-0c30-49d8-9665-2722a11bad98",
   "metadata": {
    "tags": []
   },
   "outputs": [],
   "source": [
    "predictions = model(x_train[:1]).numpy()"
   ]
  },
  {
   "cell_type": "code",
   "execution_count": 9,
   "id": "d8655180-d151-4dc0-a42b-c88d1654f23f",
   "metadata": {
    "tags": []
   },
   "outputs": [
    {
     "data": {
      "text/plain": [
       "array([[ 0.40351412, -0.2411313 ,  0.24109012,  0.45823234, -0.18442912,\n",
       "         0.7358134 ,  0.12899141,  0.37193206,  0.48417938, -0.12303852]],\n",
       "      dtype=float32)"
      ]
     },
     "execution_count": 9,
     "metadata": {},
     "output_type": "execute_result"
    }
   ],
   "source": [
    "predictions"
   ]
  },
  {
   "cell_type": "code",
   "execution_count": 10,
   "id": "92d13522-16ce-4a30-9c97-5192debc4a73",
   "metadata": {
    "tags": []
   },
   "outputs": [
    {
     "data": {
      "text/plain": [
       "array([[0.11383943, 0.05974846, 0.09677269, 0.12024208, 0.06323422,\n",
       "        0.15871151, 0.08651052, 0.11030032, 0.12340284, 0.06723784]],\n",
       "      dtype=float32)"
      ]
     },
     "execution_count": 10,
     "metadata": {},
     "output_type": "execute_result"
    }
   ],
   "source": [
    "tf.nn.softmax(predictions).numpy()"
   ]
  },
  {
   "cell_type": "code",
   "execution_count": 11,
   "id": "04b7492d-4084-45af-a80b-081f046d3671",
   "metadata": {
    "tags": []
   },
   "outputs": [],
   "source": [
    "loss_fn = tf.keras.losses.SparseCategoricalCrossentropy(from_logits=True)"
   ]
  },
  {
   "cell_type": "code",
   "execution_count": 12,
   "id": "7fb92edf-ef73-4d38-8f1e-2dcd3859aadb",
   "metadata": {
    "tags": []
   },
   "outputs": [
    {
     "data": {
      "text/plain": [
       "1.8406671"
      ]
     },
     "execution_count": 12,
     "metadata": {},
     "output_type": "execute_result"
    }
   ],
   "source": [
    "loss_fn(y_train[:1], predictions).numpy()"
   ]
  },
  {
   "cell_type": "code",
   "execution_count": 13,
   "id": "13699a32-49e4-4b50-b1d0-9ed1d31855dc",
   "metadata": {
    "tags": []
   },
   "outputs": [],
   "source": [
    "model.compile(optimizer='adam', loss=loss_fn, metrics=['accuracy'])"
   ]
  },
  {
   "cell_type": "code",
   "execution_count": 14,
   "id": "1b2b9452-9084-4bfb-9dd0-83a34fce6d9c",
   "metadata": {
    "tags": []
   },
   "outputs": [
    {
     "name": "stdout",
     "output_type": "stream",
     "text": [
      "Epoch 1/5\n",
      "1875/1875 [==============================] - 5s 2ms/step - loss: 0.2911 - accuracy: 0.9151\n",
      "Epoch 2/5\n",
      "1875/1875 [==============================] - 4s 2ms/step - loss: 0.1430 - accuracy: 0.9574\n",
      "Epoch 3/5\n",
      "1875/1875 [==============================] - 4s 2ms/step - loss: 0.1052 - accuracy: 0.9686\n",
      "Epoch 4/5\n",
      "1875/1875 [==============================] - 4s 2ms/step - loss: 0.0862 - accuracy: 0.9738\n",
      "Epoch 5/5\n",
      "1875/1875 [==============================] - 4s 2ms/step - loss: 0.0750 - accuracy: 0.9765\n"
     ]
    },
    {
     "data": {
      "text/plain": [
       "<keras.callbacks.History at 0x22aa4d58d60>"
      ]
     },
     "execution_count": 14,
     "metadata": {},
     "output_type": "execute_result"
    }
   ],
   "source": [
    "model.fit(x_train, y_train, epochs=5)"
   ]
  },
  {
   "cell_type": "code",
   "execution_count": 15,
   "id": "c53decc8-78ee-45de-bc44-5e210342c5fb",
   "metadata": {
    "tags": []
   },
   "outputs": [
    {
     "name": "stdout",
     "output_type": "stream",
     "text": [
      "313/313 - 1s - loss: 0.0725 - accuracy: 0.9785 - 518ms/epoch - 2ms/step\n"
     ]
    },
    {
     "data": {
      "text/plain": [
       "[0.07245786488056183, 0.9785000085830688]"
      ]
     },
     "execution_count": 15,
     "metadata": {},
     "output_type": "execute_result"
    }
   ],
   "source": [
    "model.evaluate(x_test, y_test, verbose=2)"
   ]
  },
  {
   "cell_type": "code",
   "execution_count": 16,
   "id": "1c691bfa-3781-43df-b65f-54d83f0cf62a",
   "metadata": {
    "tags": []
   },
   "outputs": [],
   "source": [
    "probability_model = tf.keras.Sequential([model, tf.keras.layers.Softmax()\n",
    "                                        ])"
   ]
  },
  {
   "cell_type": "code",
   "execution_count": 17,
   "id": "c7b10e7e-c529-4bf9-a031-7af7521a772f",
   "metadata": {
    "tags": []
   },
   "outputs": [
    {
     "data": {
      "text/plain": [
       "<tf.Tensor: shape=(5, 10), dtype=float32, numpy=\n",
       "array([[2.0019682e-07, 5.7582690e-09, 1.9286417e-06, 1.7646749e-05,\n",
       "        1.9825190e-12, 4.7983036e-08, 7.6719783e-13, 9.9997771e-01,\n",
       "        2.6271278e-08, 2.4316691e-06],\n",
       "       [2.8425475e-08, 4.1614636e-05, 9.9994123e-01, 1.2708328e-05,\n",
       "        2.0758048e-15, 2.1670610e-06, 1.5957418e-08, 3.9062051e-15,\n",
       "        2.2528134e-06, 6.9859236e-12],\n",
       "       [3.6922970e-08, 9.9960071e-01, 1.5848404e-04, 1.8339533e-06,\n",
       "        1.0610004e-05, 4.8614953e-07, 3.5320147e-06, 2.0492720e-04,\n",
       "        1.9297107e-05, 1.0672018e-07],\n",
       "       [9.9973673e-01, 1.0621293e-08, 9.2812406e-05, 2.9704881e-07,\n",
       "        1.4389851e-06, 1.8126326e-05, 7.4728428e-05, 5.3067517e-05,\n",
       "        8.4490610e-09, 2.2714463e-05],\n",
       "       [3.5036899e-06, 6.0863345e-09, 6.2584409e-06, 2.8332954e-07,\n",
       "        9.7216898e-01, 2.2493425e-07, 1.6151386e-06, 1.5498945e-04,\n",
       "        4.4984836e-06, 2.7659608e-02]], dtype=float32)>"
      ]
     },
     "execution_count": 17,
     "metadata": {},
     "output_type": "execute_result"
    }
   ],
   "source": [
    "probability_model(x_test[:5])"
   ]
  },
  {
   "cell_type": "code",
   "execution_count": null,
   "id": "59c46239-21c5-458c-ad72-099cf3a59c3c",
   "metadata": {},
   "outputs": [],
   "source": []
  }
 ],
 "metadata": {
  "kernelspec": {
   "display_name": "Python 3 (ipykernel)",
   "language": "python",
   "name": "python3"
  },
  "language_info": {
   "codemirror_mode": {
    "name": "ipython",
    "version": 3
   },
   "file_extension": ".py",
   "mimetype": "text/x-python",
   "name": "python",
   "nbconvert_exporter": "python",
   "pygments_lexer": "ipython3",
   "version": "3.9.0"
  }
 },
 "nbformat": 4,
 "nbformat_minor": 5
}
