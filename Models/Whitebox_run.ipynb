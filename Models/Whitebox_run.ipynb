{
  "cells": [
    {
      "cell_type": "code",
      "execution_count": 6,
      "metadata": {
        "id": "l19CMLuKokL0",
        "outputId": "598be781-2a9e-4618-9954-32348cf3cb37",
        "colab": {
          "base_uri": "https://localhost:8080/"
        }
      },
      "outputs": [
        {
          "output_type": "stream",
          "name": "stdout",
          "text": [
            "Requirement already satisfied: numpy in /usr/local/lib/python3.10/dist-packages (1.26.4)\n",
            "Requirement already satisfied: pandas in /usr/local/lib/python3.10/dist-packages (2.2.2)\n",
            "Requirement already satisfied: statsmodels in /usr/local/lib/python3.10/dist-packages (0.14.4)\n",
            "Requirement already satisfied: matplotlib in /usr/local/lib/python3.10/dist-packages (3.8.0)\n",
            "Requirement already satisfied: seaborn in /usr/local/lib/python3.10/dist-packages (0.13.2)\n",
            "Requirement already satisfied: prophet in /usr/local/lib/python3.10/dist-packages (1.1.6)\n",
            "Collecting sklearn\n",
            "  Using cached sklearn-0.0.post12.tar.gz (2.6 kB)\n",
            "  \u001b[1;31merror\u001b[0m: \u001b[1msubprocess-exited-with-error\u001b[0m\n",
            "  \n",
            "  \u001b[31m×\u001b[0m \u001b[32mpython setup.py egg_info\u001b[0m did not run successfully.\n",
            "  \u001b[31m│\u001b[0m exit code: \u001b[1;36m1\u001b[0m\n",
            "  \u001b[31m╰─>\u001b[0m See above for output.\n",
            "  \n",
            "  \u001b[1;35mnote\u001b[0m: This error originates from a subprocess, and is likely not a problem with pip.\n",
            "  Preparing metadata (setup.py) ... \u001b[?25l\u001b[?25herror\n",
            "\u001b[1;31merror\u001b[0m: \u001b[1mmetadata-generation-failed\u001b[0m\n",
            "\n",
            "\u001b[31m×\u001b[0m Encountered error while generating package metadata.\n",
            "\u001b[31m╰─>\u001b[0m See above for output.\n",
            "\n",
            "\u001b[1;35mnote\u001b[0m: This is an issue with the package mentioned above, not pip.\n",
            "\u001b[1;36mhint\u001b[0m: See above for details.\n"
          ]
        }
      ],
      "source": [
        "!pip install numpy pandas statsmodels matplotlib seaborn prophet sklearn"
      ]
    },
    {
      "cell_type": "code",
      "execution_count": 7,
      "metadata": {
        "id": "dwxyytKFokL5",
        "outputId": "7017c9ec-8b73-4960-ddc9-5f016434625c",
        "colab": {
          "base_uri": "https://localhost:8080/",
          "height": 108
        }
      },
      "outputs": [
        {
          "output_type": "display_data",
          "data": {
            "text/plain": [
              "<IPython.core.display.HTML object>"
            ],
            "text/html": [
              "\n",
              "     <input type=\"file\" id=\"files-cc54da01-0d05-4a4b-90bd-c74b3cc9f620\" name=\"files[]\" multiple disabled\n",
              "        style=\"border:none\" />\n",
              "     <output id=\"result-cc54da01-0d05-4a4b-90bd-c74b3cc9f620\">\n",
              "      Upload widget is only available when the cell has been executed in the\n",
              "      current browser session. Please rerun this cell to enable.\n",
              "      </output>\n",
              "      <script>// Copyright 2017 Google LLC\n",
              "//\n",
              "// Licensed under the Apache License, Version 2.0 (the \"License\");\n",
              "// you may not use this file except in compliance with the License.\n",
              "// You may obtain a copy of the License at\n",
              "//\n",
              "//      http://www.apache.org/licenses/LICENSE-2.0\n",
              "//\n",
              "// Unless required by applicable law or agreed to in writing, software\n",
              "// distributed under the License is distributed on an \"AS IS\" BASIS,\n",
              "// WITHOUT WARRANTIES OR CONDITIONS OF ANY KIND, either express or implied.\n",
              "// See the License for the specific language governing permissions and\n",
              "// limitations under the License.\n",
              "\n",
              "/**\n",
              " * @fileoverview Helpers for google.colab Python module.\n",
              " */\n",
              "(function(scope) {\n",
              "function span(text, styleAttributes = {}) {\n",
              "  const element = document.createElement('span');\n",
              "  element.textContent = text;\n",
              "  for (const key of Object.keys(styleAttributes)) {\n",
              "    element.style[key] = styleAttributes[key];\n",
              "  }\n",
              "  return element;\n",
              "}\n",
              "\n",
              "// Max number of bytes which will be uploaded at a time.\n",
              "const MAX_PAYLOAD_SIZE = 100 * 1024;\n",
              "\n",
              "function _uploadFiles(inputId, outputId) {\n",
              "  const steps = uploadFilesStep(inputId, outputId);\n",
              "  const outputElement = document.getElementById(outputId);\n",
              "  // Cache steps on the outputElement to make it available for the next call\n",
              "  // to uploadFilesContinue from Python.\n",
              "  outputElement.steps = steps;\n",
              "\n",
              "  return _uploadFilesContinue(outputId);\n",
              "}\n",
              "\n",
              "// This is roughly an async generator (not supported in the browser yet),\n",
              "// where there are multiple asynchronous steps and the Python side is going\n",
              "// to poll for completion of each step.\n",
              "// This uses a Promise to block the python side on completion of each step,\n",
              "// then passes the result of the previous step as the input to the next step.\n",
              "function _uploadFilesContinue(outputId) {\n",
              "  const outputElement = document.getElementById(outputId);\n",
              "  const steps = outputElement.steps;\n",
              "\n",
              "  const next = steps.next(outputElement.lastPromiseValue);\n",
              "  return Promise.resolve(next.value.promise).then((value) => {\n",
              "    // Cache the last promise value to make it available to the next\n",
              "    // step of the generator.\n",
              "    outputElement.lastPromiseValue = value;\n",
              "    return next.value.response;\n",
              "  });\n",
              "}\n",
              "\n",
              "/**\n",
              " * Generator function which is called between each async step of the upload\n",
              " * process.\n",
              " * @param {string} inputId Element ID of the input file picker element.\n",
              " * @param {string} outputId Element ID of the output display.\n",
              " * @return {!Iterable<!Object>} Iterable of next steps.\n",
              " */\n",
              "function* uploadFilesStep(inputId, outputId) {\n",
              "  const inputElement = document.getElementById(inputId);\n",
              "  inputElement.disabled = false;\n",
              "\n",
              "  const outputElement = document.getElementById(outputId);\n",
              "  outputElement.innerHTML = '';\n",
              "\n",
              "  const pickedPromise = new Promise((resolve) => {\n",
              "    inputElement.addEventListener('change', (e) => {\n",
              "      resolve(e.target.files);\n",
              "    });\n",
              "  });\n",
              "\n",
              "  const cancel = document.createElement('button');\n",
              "  inputElement.parentElement.appendChild(cancel);\n",
              "  cancel.textContent = 'Cancel upload';\n",
              "  const cancelPromise = new Promise((resolve) => {\n",
              "    cancel.onclick = () => {\n",
              "      resolve(null);\n",
              "    };\n",
              "  });\n",
              "\n",
              "  // Wait for the user to pick the files.\n",
              "  const files = yield {\n",
              "    promise: Promise.race([pickedPromise, cancelPromise]),\n",
              "    response: {\n",
              "      action: 'starting',\n",
              "    }\n",
              "  };\n",
              "\n",
              "  cancel.remove();\n",
              "\n",
              "  // Disable the input element since further picks are not allowed.\n",
              "  inputElement.disabled = true;\n",
              "\n",
              "  if (!files) {\n",
              "    return {\n",
              "      response: {\n",
              "        action: 'complete',\n",
              "      }\n",
              "    };\n",
              "  }\n",
              "\n",
              "  for (const file of files) {\n",
              "    const li = document.createElement('li');\n",
              "    li.append(span(file.name, {fontWeight: 'bold'}));\n",
              "    li.append(span(\n",
              "        `(${file.type || 'n/a'}) - ${file.size} bytes, ` +\n",
              "        `last modified: ${\n",
              "            file.lastModifiedDate ? file.lastModifiedDate.toLocaleDateString() :\n",
              "                                    'n/a'} - `));\n",
              "    const percent = span('0% done');\n",
              "    li.appendChild(percent);\n",
              "\n",
              "    outputElement.appendChild(li);\n",
              "\n",
              "    const fileDataPromise = new Promise((resolve) => {\n",
              "      const reader = new FileReader();\n",
              "      reader.onload = (e) => {\n",
              "        resolve(e.target.result);\n",
              "      };\n",
              "      reader.readAsArrayBuffer(file);\n",
              "    });\n",
              "    // Wait for the data to be ready.\n",
              "    let fileData = yield {\n",
              "      promise: fileDataPromise,\n",
              "      response: {\n",
              "        action: 'continue',\n",
              "      }\n",
              "    };\n",
              "\n",
              "    // Use a chunked sending to avoid message size limits. See b/62115660.\n",
              "    let position = 0;\n",
              "    do {\n",
              "      const length = Math.min(fileData.byteLength - position, MAX_PAYLOAD_SIZE);\n",
              "      const chunk = new Uint8Array(fileData, position, length);\n",
              "      position += length;\n",
              "\n",
              "      const base64 = btoa(String.fromCharCode.apply(null, chunk));\n",
              "      yield {\n",
              "        response: {\n",
              "          action: 'append',\n",
              "          file: file.name,\n",
              "          data: base64,\n",
              "        },\n",
              "      };\n",
              "\n",
              "      let percentDone = fileData.byteLength === 0 ?\n",
              "          100 :\n",
              "          Math.round((position / fileData.byteLength) * 100);\n",
              "      percent.textContent = `${percentDone}% done`;\n",
              "\n",
              "    } while (position < fileData.byteLength);\n",
              "  }\n",
              "\n",
              "  // All done.\n",
              "  yield {\n",
              "    response: {\n",
              "      action: 'complete',\n",
              "    }\n",
              "  };\n",
              "}\n",
              "\n",
              "scope.google = scope.google || {};\n",
              "scope.google.colab = scope.google.colab || {};\n",
              "scope.google.colab._files = {\n",
              "  _uploadFiles,\n",
              "  _uploadFilesContinue,\n",
              "};\n",
              "})(self);\n",
              "</script> "
            ]
          },
          "metadata": {}
        },
        {
          "output_type": "stream",
          "name": "stdout",
          "text": [
            "Saving ConsumptionIndustry.csv to ConsumptionIndustry (1).csv\n",
            "Saving ELSpotPrices.csv to ELSpotPrices.csv\n"
          ]
        }
      ],
      "source": [
        "import numpy as np\n",
        "import pandas as pd\n",
        "import matplotlib.pyplot as plt\n",
        "import itertools\n",
        "\n",
        "import statsmodels.api as sm\n",
        "from statsmodels.tsa.stattools import adfuller\n",
        "from statsmodels.tsa.stattools import kpss\n",
        "from statsmodels.graphics.tsaplots import plot_acf, plot_pacf\n",
        "from statsmodels.tsa.seasonal import seasonal_decompose\n",
        "from statsmodels.tsa.holtwinters import SimpleExpSmoothing\n",
        "from statsmodels.tsa.holtwinters import Holt\n",
        "from statsmodels.tsa.holtwinters import ExponentialSmoothing\n",
        "from statsmodels.tsa.statespace.sarimax import SARIMAX\n",
        "from statsmodels.tsa.statespace.dynamic_factor_mq import DynamicFactorMQ\n",
        "from statsmodels.tsa.forecasting.stl import STLForecast\n",
        "from statsmodels.tsa.seasonal import STL\n",
        "from statsmodels.tsa.forecasting.theta import ThetaModel\n",
        "from datetime import datetime, timedelta\n",
        "\n",
        "from sklearn.metrics import mean_squared_error\n",
        "from sklearn.metrics import root_mean_squared_error\n",
        "from prophet import Prophet\n",
        "\n",
        "try:\n",
        "  from google.colab import files\n",
        "  uploaded = files.upload()\n",
        "  IN_COLAB = True\n",
        "except:\n",
        "  IN_COLAB = False\n",
        "\n",
        "import warnings\n",
        "warnings.filterwarnings('once')"
      ]
    },
    {
      "cell_type": "markdown",
      "metadata": {
        "id": "0YgucsbRokL7"
      },
      "source": [
        "Functions"
      ]
    },
    {
      "cell_type": "code",
      "execution_count": 8,
      "metadata": {
        "id": "wu3IjrtfokL8",
        "outputId": "4481607a-b0a9-4e57-cbde-7b4c792c2ebd",
        "colab": {
          "base_uri": "https://localhost:8080/"
        }
      },
      "outputs": [
        {
          "output_type": "stream",
          "name": "stderr",
          "text": [
            "/usr/local/lib/python3.10/dist-packages/ipykernel/ipkernel.py:283: DeprecationWarning: `should_run_async` will not call `transform_cell` automatically in the future. Please pass the result to `transformed_cell` argument and any exception that happen during thetransform in `preprocessing_exc_tuple` in IPython 7.17 and above.\n",
            "  and should_run_async(code)\n"
          ]
        }
      ],
      "source": [
        "def sample_data(df, start_date):\n",
        "  start_date = datetime.strptime(start_date, '%Y-%m-%d')\n",
        "  end_date = df.index[-1]\n",
        "  return df[(df.index >= start_date) & (df.index <= end_date)]\n",
        "\n",
        "def sample_data_with_train_window(df, start_date, train_window_size):\n",
        "  start_date = datetime.strptime(start_date, '%Y-%m-%d') - timedelta(hours=train_window_size)\n",
        "  end_date = df.index[-1]\n",
        "  return df[(df.index >= start_date) & (df.index <= end_date)]\n",
        "\n",
        "def get_next_window(data, train_window_size, forecast_horizon):\n",
        "  return data[:train_window_size], data[train_window_size:train_window_size + forecast_horizon]\n",
        "\n",
        "def forecast_whitebox_model(model, forecast_horizon, model_name, exog_data_test=None):\n",
        "  model_res = model.fit()\n",
        "\n",
        "  if \"SARIMA\" in model_name and \"STL\" not in model_name:\n",
        "    return model_res.get_forecast(steps=forecast_horizon, exog=exog_data_test).predicted_mean\n",
        "  else:\n",
        "    return model_res.forecast(steps=forecast_horizon)\n",
        "\n",
        "def plot_data(df):\n",
        "  plt.plot(df)\n",
        "  plt.title('Consumption in dk private households')\n",
        "  plt.xlabel('Measurements')\n",
        "  plt.ylabel('Power (kW / charger)')\n",
        "  plt.show()"
      ]
    },
    {
      "cell_type": "markdown",
      "metadata": {
        "id": "qpBeKoKIokL9"
      },
      "source": [
        "Initializing time series"
      ]
    },
    {
      "cell_type": "code",
      "execution_count": 9,
      "metadata": {
        "id": "qLzqsqWzokL9"
      },
      "outputs": [],
      "source": [
        "# Consumption data\n",
        "df = pd.read_csv('../Dataset/ConsumptionIndustry.csv' if not IN_COLAB else 'ConsumptionIndustry.csv', sep=';')\n",
        "df['HourDK'] = pd.to_datetime(df['HourDK'])\n",
        "df['ConsumptionkWh'] = df['ConsumptionkWh'].str.replace(\",\", \".\").astype(float)\n",
        "df.index = df['HourDK']\n",
        "\n",
        "# format data here\n",
        "df.drop(columns=['HourUTC', 'HourDK', 'MunicipalityNo', 'Branche'], inplace=True)"
      ]
    },
    {
      "cell_type": "code",
      "execution_count": 10,
      "metadata": {
        "id": "RCMdTWhEokL-",
        "outputId": "a5762d2b-cf0a-44d2-ecf1-1ae3da72ecfe",
        "colab": {
          "base_uri": "https://localhost:8080/"
        }
      },
      "outputs": [
        {
          "output_type": "stream",
          "name": "stderr",
          "text": [
            "/usr/local/lib/python3.10/dist-packages/ipykernel/ipkernel.py:283: DeprecationWarning: `should_run_async` will not call `transform_cell` automatically in the future. Please pass the result to `transformed_cell` argument and any exception that happen during thetransform in `preprocessing_exc_tuple` in IPython 7.17 and above.\n",
            "  and should_run_async(code)\n"
          ]
        }
      ],
      "source": [
        "# El-spot prices\n",
        "df2 = pd.read_csv('../Dataset/ELSpotPrices.csv' if not IN_COLAB else 'ELSpotPrices.csv', sep=';')\n",
        "df2['HourDK'] = pd.to_datetime(df2['HourDK'])\n",
        "df2['SpotPriceDKK'] = df2['SpotPriceDKK'].str.replace(\",\", \".\").astype(float)\n",
        "df2.index = df2['HourDK']\n",
        "df2 = df2.iloc[1:] # remove first row, since the measurement at that time is not present in other dataset\n",
        "df2.drop(columns=['HourUTC', 'HourDK', 'PriceArea', 'SpotPriceEUR'], inplace=True)"
      ]
    },
    {
      "cell_type": "markdown",
      "metadata": {
        "id": "Gltp-UsjokL-"
      },
      "source": [
        "Runs a model in Sliding Window forecasting style"
      ]
    },
    {
      "cell_type": "code",
      "execution_count": 18,
      "metadata": {
        "id": "8r7Dyq4TokL_",
        "outputId": "29a74ab2-cfcf-4c72-c6fd-51172664247a",
        "colab": {
          "base_uri": "https://localhost:8080/"
        }
      },
      "outputs": [
        {
          "output_type": "stream",
          "name": "stdout",
          "text": [
            "                                0\n",
            "2023-11-01 00:00:00  32322.237730\n",
            "2023-11-01 01:00:00  30654.533350\n",
            "2023-11-01 02:00:00  29289.038986\n",
            "2023-11-01 03:00:00  27695.917988\n",
            "2023-11-01 04:00:00  25801.326129\n",
            "...                           ...\n",
            "2024-11-10 19:00:00  54545.169455\n",
            "2024-11-10 20:00:00  46866.732722\n",
            "2024-11-10 21:00:00  41477.676269\n",
            "2024-11-10 22:00:00  41054.792036\n",
            "2024-11-10 23:00:00  35867.308025\n",
            "\n",
            "[9024 rows x 1 columns]\n"
          ]
        }
      ],
      "source": [
        "model_name = 'ThetaModel'\n",
        "date_start = '2023-11-01'\n",
        "window_train_size = 24*7*2 #hours\n",
        "forecast_horizon = 24 #hours\n",
        "\n",
        "data = sample_data_with_train_window(df, date_start, window_train_size) # start: date_start - window_train_size, end: last date in df\n",
        "# exog_data = sample_data_with_train_window(df2, date_start, window_train_size)\n",
        "# plot_data(data)\n",
        "results = np.array([])\n",
        "iterations = 0\n",
        "\n",
        "warnings.filterwarnings(\"ignore\")\n",
        "\n",
        "while len(data) > window_train_size + forecast_horizon:\n",
        "  data_train, data_test = get_next_window(data, window_train_size, forecast_horizon)\n",
        "  # exog_data_train, exog_data_test = get_next_window(exog_data, window_train_size, forecast_horizon)\n",
        "  model = ThetaModel(data_train, period=24, deseasonalize=True, use_test=True, method='additive', difference=True)\n",
        "  predictions = forecast_whitebox_model(model, forecast_horizon, model_name)\n",
        "\n",
        "  results = np.append(results, predictions.values)\n",
        "  iterations += 1\n",
        "  data = data.iloc[forecast_horizon:] # move window by forecast_horizon\n",
        "  # exog_data = exog_data.iloc[forecast_horizon:]\n",
        "\n",
        "warnings.filterwarnings(\"default\")\n",
        "\n",
        "result_table = pd.DataFrame(results)\n",
        "result_table.index = pd.date_range(start=date_start, periods=forecast_horizon*iterations, freq='h')\n",
        "\n",
        "if IN_COLAB:\n",
        "  result_table.to_csv(f'{window_train_size}_{forecast_horizon}_{model_name}.csv')\n",
        "else:\n",
        "  result_table.to_csv(f'../Results/Whitebox/Forecasting/{window_train_size}_{forecast_horizon}_{model_name}.csv', header=False)"
      ]
    },
    {
      "cell_type": "markdown",
      "metadata": {
        "id": "aFjQS70gokMA"
      },
      "source": [
        "Models"
      ]
    },
    {
      "cell_type": "code",
      "execution_count": null,
      "metadata": {
        "id": "hO7H6ZBIokMA"
      },
      "outputs": [],
      "source": [
        "  # model = SARIMAX(endog = data_train, order = (1, 1, 4), seasonal_order = (1, 1, 1, 12), enforce_stationarity=False, enforce_invertibility=False)\n",
        "  # model = STLForecast(data_train, SARIMAX, model_kwargs=dict(order=(1, 1, 1), seasonal_order = (1, 1, 1, 12)), period=24)\n",
        "  # model = ThetaModel(data_train, period=24, method=\"additive\")\n",
        "  # model = ThetaModel(data_train, period=24, method=\"multiplicative\")\n",
        "  # model = DynamicFactorMQ(endog=data_train)"
      ]
    },
    {
      "cell_type": "markdown",
      "metadata": {
        "id": "dmTHHLULokMB"
      },
      "source": [
        "Plot of forecasts"
      ]
    },
    {
      "cell_type": "code",
      "execution_count": 16,
      "metadata": {
        "id": "Mnxfd2ATokMB",
        "outputId": "64249795-59e9-4fba-9ebd-a3c77cb20175",
        "colab": {
          "base_uri": "https://localhost:8080/",
          "height": 405
        }
      },
      "outputs": [
        {
          "output_type": "stream",
          "name": "stderr",
          "text": [
            "/usr/local/lib/python3.10/dist-packages/ipykernel/ipkernel.py:283: DeprecationWarning: `should_run_async` will not call `transform_cell` automatically in the future. Please pass the result to `transformed_cell` argument and any exception that happen during thetransform in `preprocessing_exc_tuple` in IPython 7.17 and above.\n",
            "  and should_run_async(code)\n"
          ]
        },
        {
          "output_type": "execute_result",
          "data": {
            "text/plain": [
              "<matplotlib.legend.Legend at 0x7903a5af19c0>"
            ]
          },
          "metadata": {},
          "execution_count": 16
        },
        {
          "output_type": "display_data",
          "data": {
            "text/plain": [
              "<Figure size 800x300 with 1 Axes>"
            ],
            "image/png": "[encoded data removed]"
          },
          "metadata": {}
        }
      ],
      "source": [
        "# prediction_Theta_additive = pd.read_csv('../Results/Whitebox/Forecasting/336_24_ThetaModel_additive.csv', header=None, index_col=0, names=['Prediction'])\n",
        "# prediction_Theta_additive.index = pd.to_datetime(prediction_Theta_additive.index)\n",
        "# prediction_Theta_multiplicative = pd.read_csv('../Results/Whitebox/Forecasting/336_24_ThetaModel_multiplicative.csv', header=None, index_col=0, names=['Prediction'])\n",
        "# prediction_Theta_multiplicative.index = pd.to_datetime(prediction_Theta_multiplicative.index)\n",
        "# prediction_DynamicFactorMQ = pd.read_csv('../Results/Whitebox/Forecasting/336_24_DynamicFactorMQ.csv', header=None, index_col=0, names=['Prediction'])\n",
        "# prediction_DynamicFactorMQ.index = pd.to_datetime(prediction_DynamicFactorMQ.index)\n",
        "# predictions = pd.read_csv('../Results/Whitebox/Forecasting/336_24_SARIMAX.csv', header=None, index_col=0, names=['Prediction'])\n",
        "# predictions.index = pd.to_datetime(predictions.index)\n",
        "\n",
        "fig, ax = plt.subplots(figsize=(8, 3))\n",
        "data['ConsumptionkWh'].plot(ax=ax, label='True')\n",
        "result_table.plot(ax=ax, label='Predictions')\n",
        "# predictions['Prediction'].plot(ax=ax, label='SARIMAX')\n",
        "# prediction_Theta_additive['Prediction'].plot(ax=ax, label='Theta_additive')\n",
        "# prediction_Theta_multiplicative['Prediction'].plot(ax=ax, label='Theta_multiplicative')\n",
        "# prediction_DynamicFactorMQ['Prediction'].plot(ax=ax, label='DynamicFactorMQ')\n",
        "ax.set_title('Predictions')\n",
        "ax.legend()"
      ]
    },
    {
      "cell_type": "markdown",
      "metadata": {
        "id": "2kpUOEeCokMB"
      },
      "source": [
        "Evaluate algorithm performance"
      ]
    },
    {
      "cell_type": "code",
      "execution_count": null,
      "metadata": {
        "id": "oqoH8tCKokMC"
      },
      "outputs": [],
      "source": [
        "# def evaluate(prediction, name):\n",
        "#     print(f\"-- {name} --\")\n",
        "#     print(f\"mse: {mean_squared_error(data, prediction)}\") #penalizes larger errors more\n",
        "#     print(f\"rmse: {root_mean_squared_error(data, prediction)}\")\n",
        "\n",
        "# data = sample_data(df, date_start)\n",
        "\n",
        "# evaluate(prediction_Theta_additive['Prediction'], 'Theta_additive')\n",
        "# evaluate(prediction_Theta_multiplicative['Prediction'], 'Theta_multiplicative')\n",
        "# evaluate(prediction_DynamicFactorMQ['Prediction'], 'DynamicFactorMQ')\n"
      ]
    }
  ],
  "metadata": {
    "kernelspec": {
      "display_name": "Python 3",
      "language": "python",
      "name": "python3"
    },
    "language_info": {
      "codemirror_mode": {
        "name": "ipython",
        "version": 3
      },
      "file_extension": ".py",
      "mimetype": "text/x-python",
      "name": "python",
      "nbconvert_exporter": "python",
      "pygments_lexer": "ipython3",
      "version": "3.12.0"
    },
    "colab": {
      "provenance": []
    }
  },
  "nbformat": 4,
  "nbformat_minor": 0
}